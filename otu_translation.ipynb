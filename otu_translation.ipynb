{
  "nbformat": 4,
  "nbformat_minor": 0,
  "metadata": {
    "colab": {
      "name": "otu_translation.ipynb",
      "provenance": [],
      "authorship_tag": "ABX9TyMP9G0kqYKFjQZbcroLklNa"
    },
    "kernelspec": {
      "name": "python3",
      "display_name": "Python 3"
    },
    "language_info": {
      "name": "python"
    }
  },
  "cells": [
    {
      "cell_type": "code",
      "metadata": {
        "colab": {
          "base_uri": "https://localhost:8080/"
        },
        "id": "SKu-XH-4i-ud",
        "outputId": "d3763806-fccb-4654-9c30-1fbf5dbeb273"
      },
      "source": [
        "#Mount your personal Google Drive to colab\n",
        "from google.colab import drive\n",
        "drive.mount('/content/drive')"
      ],
      "execution_count": 1,
      "outputs": [
        {
          "output_type": "stream",
          "name": "stdout",
          "text": [
            "Mounted at /content/drive\n"
          ]
        }
      ]
    },
    {
      "cell_type": "code",
      "metadata": {
        "id": "G8xBZgvwkUfP"
      },
      "source": [
        "import os #import operating system commands\n",
        "os.chdir( \"/content/drive/My Drive\") #change to Google Drive main directory\n",
        "os.chdir(\"applied\") #move into the new subfolder, thereby making it the current working directory"
      ],
      "execution_count": 2,
      "outputs": []
    },
    {
      "cell_type": "code",
      "metadata": {
        "id": "72gNEpZXpBAt"
      },
      "source": [
        "#import pandas for dataframes\n",
        "import pandas as pd\n"
      ],
      "execution_count": 3,
      "outputs": []
    },
    {
      "cell_type": "code",
      "metadata": {
        "id": "LBtpV-aiqkkW"
      },
      "source": [
        "fourone = pd.read_csv(\"ssu_4_1.otu\", sep='\\t', header=0) #read in the 4.1 OTU file"
      ],
      "execution_count": 4,
      "outputs": []
    },
    {
      "cell_type": "code",
      "metadata": {
        "colab": {
          "base_uri": "https://localhost:8080/",
          "height": 419
        },
        "id": "Fdh4Uqdir9Y3",
        "outputId": "40165c08-a08c-4a4e-a8f7-cbc1cca3d99f"
      },
      "source": [
        "fourone"
      ],
      "execution_count": 5,
      "outputs": [
        {
          "output_type": "execute_result",
          "data": {
            "text/html": [
              "<div>\n",
              "<style scoped>\n",
              "    .dataframe tbody tr th:only-of-type {\n",
              "        vertical-align: middle;\n",
              "    }\n",
              "\n",
              "    .dataframe tbody tr th {\n",
              "        vertical-align: top;\n",
              "    }\n",
              "\n",
              "    .dataframe thead th {\n",
              "        text-align: right;\n",
              "    }\n",
              "</style>\n",
              "<table border=\"1\" class=\"dataframe\">\n",
              "  <thead>\n",
              "    <tr style=\"text-align: right;\">\n",
              "      <th></th>\n",
              "      <th>OTU_id</th>\n",
              "      <th>taxonomy</th>\n",
              "    </tr>\n",
              "  </thead>\n",
              "  <tbody>\n",
              "    <tr>\n",
              "      <th>0</th>\n",
              "      <td>1</td>\n",
              "      <td>sk__Eukaryota;k__Viridiplantae;p__Streptophyta...</td>\n",
              "    </tr>\n",
              "    <tr>\n",
              "      <th>1</th>\n",
              "      <td>2</td>\n",
              "      <td>sk__Eukaryota;k__Viridiplantae;p__Chlorophyta;...</td>\n",
              "    </tr>\n",
              "    <tr>\n",
              "      <th>2</th>\n",
              "      <td>3</td>\n",
              "      <td>sk__Eukaryota;k__Metazoa;p__Arthropoda;c__Inse...</td>\n",
              "    </tr>\n",
              "    <tr>\n",
              "      <th>3</th>\n",
              "      <td>4</td>\n",
              "      <td>sk__Bacteria;k__;p__Firmicutes;c__Bacilli;o__B...</td>\n",
              "    </tr>\n",
              "    <tr>\n",
              "      <th>4</th>\n",
              "      <td>5</td>\n",
              "      <td>sk__Bacteria;k__;p__Proteobacteria;c__Gammapro...</td>\n",
              "    </tr>\n",
              "    <tr>\n",
              "      <th>...</th>\n",
              "      <td>...</td>\n",
              "      <td>...</td>\n",
              "    </tr>\n",
              "    <tr>\n",
              "      <th>265501</th>\n",
              "      <td>265502</td>\n",
              "      <td>sk__Bacteria;k__;p__Actinobacteria;c__Actinoba...</td>\n",
              "    </tr>\n",
              "    <tr>\n",
              "      <th>265502</th>\n",
              "      <td>265503</td>\n",
              "      <td>sk__Bacteria;k__;p__Proteobacteria;c__Gammapro...</td>\n",
              "    </tr>\n",
              "    <tr>\n",
              "      <th>265503</th>\n",
              "      <td>265504</td>\n",
              "      <td>sk__Eukaryota;k__Metazoa;p__Acanthocephala;c__...</td>\n",
              "    </tr>\n",
              "    <tr>\n",
              "      <th>265504</th>\n",
              "      <td>265505</td>\n",
              "      <td>sk__Eukaryota;k__Metazoa;p__Arthropoda;c__Mala...</td>\n",
              "    </tr>\n",
              "    <tr>\n",
              "      <th>265505</th>\n",
              "      <td>265506</td>\n",
              "      <td>Unclassified</td>\n",
              "    </tr>\n",
              "  </tbody>\n",
              "</table>\n",
              "<p>265506 rows × 2 columns</p>\n",
              "</div>"
            ],
            "text/plain": [
              "        OTU_id                                           taxonomy\n",
              "0            1  sk__Eukaryota;k__Viridiplantae;p__Streptophyta...\n",
              "1            2  sk__Eukaryota;k__Viridiplantae;p__Chlorophyta;...\n",
              "2            3  sk__Eukaryota;k__Metazoa;p__Arthropoda;c__Inse...\n",
              "3            4  sk__Bacteria;k__;p__Firmicutes;c__Bacilli;o__B...\n",
              "4            5  sk__Bacteria;k__;p__Proteobacteria;c__Gammapro...\n",
              "...        ...                                                ...\n",
              "265501  265502  sk__Bacteria;k__;p__Actinobacteria;c__Actinoba...\n",
              "265502  265503  sk__Bacteria;k__;p__Proteobacteria;c__Gammapro...\n",
              "265503  265504  sk__Eukaryota;k__Metazoa;p__Acanthocephala;c__...\n",
              "265504  265505  sk__Eukaryota;k__Metazoa;p__Arthropoda;c__Mala...\n",
              "265505  265506                                       Unclassified\n",
              "\n",
              "[265506 rows x 2 columns]"
            ]
          },
          "metadata": {},
          "execution_count": 5
        }
      ]
    },
    {
      "cell_type": "code",
      "metadata": {
        "id": "bhXMjj_3s2T_"
      },
      "source": [
        "five = pd.read_csv(\"ssu_5.otu\", sep='\\t', header=0) #read in the 5.0 OTU file"
      ],
      "execution_count": 6,
      "outputs": []
    },
    {
      "cell_type": "code",
      "metadata": {
        "colab": {
          "base_uri": "https://localhost:8080/",
          "height": 419
        },
        "id": "tF3qa54fs20z",
        "outputId": "4e2e7f2f-d3ed-4d4d-810b-920c9925438c"
      },
      "source": [
        "five"
      ],
      "execution_count": 7,
      "outputs": [
        {
          "output_type": "execute_result",
          "data": {
            "text/html": [
              "<div>\n",
              "<style scoped>\n",
              "    .dataframe tbody tr th:only-of-type {\n",
              "        vertical-align: middle;\n",
              "    }\n",
              "\n",
              "    .dataframe tbody tr th {\n",
              "        vertical-align: top;\n",
              "    }\n",
              "\n",
              "    .dataframe thead th {\n",
              "        text-align: right;\n",
              "    }\n",
              "</style>\n",
              "<table border=\"1\" class=\"dataframe\">\n",
              "  <thead>\n",
              "    <tr style=\"text-align: right;\">\n",
              "      <th></th>\n",
              "      <th>OTU_id</th>\n",
              "      <th>taxonomy</th>\n",
              "      <th>taxonomy_id</th>\n",
              "    </tr>\n",
              "  </thead>\n",
              "  <tbody>\n",
              "    <tr>\n",
              "      <th>0</th>\n",
              "      <td>1</td>\n",
              "      <td>Unclassified</td>\n",
              "      <td>NaN</td>\n",
              "    </tr>\n",
              "    <tr>\n",
              "      <th>1</th>\n",
              "      <td>2</td>\n",
              "      <td>sk__Eukaryota;k__Metazoa;p__Arthropoda;c__Inse...</td>\n",
              "      <td>433265.0</td>\n",
              "    </tr>\n",
              "    <tr>\n",
              "      <th>2</th>\n",
              "      <td>3</td>\n",
              "      <td>sk__Bacteria;k__;p__Deinococcus-Thermus;c__Dei...</td>\n",
              "      <td>759814.0</td>\n",
              "    </tr>\n",
              "    <tr>\n",
              "      <th>3</th>\n",
              "      <td>4</td>\n",
              "      <td>sk__Eukaryota;k__Metazoa;p__Platyhelminthes;c_...</td>\n",
              "      <td>60517.0</td>\n",
              "    </tr>\n",
              "    <tr>\n",
              "      <th>4</th>\n",
              "      <td>5</td>\n",
              "      <td>sk__Eukaryota;k__Metazoa;p__Arthropoda;c__Inse...</td>\n",
              "      <td>491303.0</td>\n",
              "    </tr>\n",
              "    <tr>\n",
              "      <th>...</th>\n",
              "      <td>...</td>\n",
              "      <td>...</td>\n",
              "      <td>...</td>\n",
              "    </tr>\n",
              "    <tr>\n",
              "      <th>237843</th>\n",
              "      <td>237844</td>\n",
              "      <td>sk__Eukaryota;k__Metazoa;p__Arthropoda;c__Arac...</td>\n",
              "      <td>473153.0</td>\n",
              "    </tr>\n",
              "    <tr>\n",
              "      <th>237844</th>\n",
              "      <td>237845</td>\n",
              "      <td>sk__Bacteria;k__;p__Actinobacteria;c__Actinoba...</td>\n",
              "      <td>941760.0</td>\n",
              "    </tr>\n",
              "    <tr>\n",
              "      <th>237845</th>\n",
              "      <td>237846</td>\n",
              "      <td>sk__Bacteria;k__;p__Proteobacteria;c__Betaprot...</td>\n",
              "      <td>1435908.0</td>\n",
              "    </tr>\n",
              "    <tr>\n",
              "      <th>237846</th>\n",
              "      <td>237847</td>\n",
              "      <td>sk__Bacteria;k__;p__Actinobacteria;c__Actinoba...</td>\n",
              "      <td>285574.0</td>\n",
              "    </tr>\n",
              "    <tr>\n",
              "      <th>237847</th>\n",
              "      <td>237848</td>\n",
              "      <td>sk__Bacteria;k__;p__Firmicutes;c__Bacilli;o__B...</td>\n",
              "      <td>454050.0</td>\n",
              "    </tr>\n",
              "  </tbody>\n",
              "</table>\n",
              "<p>237848 rows × 3 columns</p>\n",
              "</div>"
            ],
            "text/plain": [
              "        OTU_id                                           taxonomy  taxonomy_id\n",
              "0            1                                       Unclassified          NaN\n",
              "1            2  sk__Eukaryota;k__Metazoa;p__Arthropoda;c__Inse...     433265.0\n",
              "2            3  sk__Bacteria;k__;p__Deinococcus-Thermus;c__Dei...     759814.0\n",
              "3            4  sk__Eukaryota;k__Metazoa;p__Platyhelminthes;c_...      60517.0\n",
              "4            5  sk__Eukaryota;k__Metazoa;p__Arthropoda;c__Inse...     491303.0\n",
              "...        ...                                                ...          ...\n",
              "237843  237844  sk__Eukaryota;k__Metazoa;p__Arthropoda;c__Arac...     473153.0\n",
              "237844  237845  sk__Bacteria;k__;p__Actinobacteria;c__Actinoba...     941760.0\n",
              "237845  237846  sk__Bacteria;k__;p__Proteobacteria;c__Betaprot...    1435908.0\n",
              "237846  237847  sk__Bacteria;k__;p__Actinobacteria;c__Actinoba...     285574.0\n",
              "237847  237848  sk__Bacteria;k__;p__Firmicutes;c__Bacilli;o__B...     454050.0\n",
              "\n",
              "[237848 rows x 3 columns]"
            ]
          },
          "metadata": {},
          "execution_count": 7
        }
      ]
    },
    {
      "cell_type": "code",
      "metadata": {
        "colab": {
          "base_uri": "https://localhost:8080/",
          "height": 419
        },
        "id": "BsQD34hguaAl",
        "outputId": "3580b088-9e4b-47eb-a2d3-c1c76be4995f"
      },
      "source": [
        "fourone"
      ],
      "execution_count": 8,
      "outputs": [
        {
          "output_type": "execute_result",
          "data": {
            "text/html": [
              "<div>\n",
              "<style scoped>\n",
              "    .dataframe tbody tr th:only-of-type {\n",
              "        vertical-align: middle;\n",
              "    }\n",
              "\n",
              "    .dataframe tbody tr th {\n",
              "        vertical-align: top;\n",
              "    }\n",
              "\n",
              "    .dataframe thead th {\n",
              "        text-align: right;\n",
              "    }\n",
              "</style>\n",
              "<table border=\"1\" class=\"dataframe\">\n",
              "  <thead>\n",
              "    <tr style=\"text-align: right;\">\n",
              "      <th></th>\n",
              "      <th>OTU_id</th>\n",
              "      <th>taxonomy</th>\n",
              "    </tr>\n",
              "  </thead>\n",
              "  <tbody>\n",
              "    <tr>\n",
              "      <th>0</th>\n",
              "      <td>1</td>\n",
              "      <td>sk__Eukaryota;k__Viridiplantae;p__Streptophyta...</td>\n",
              "    </tr>\n",
              "    <tr>\n",
              "      <th>1</th>\n",
              "      <td>2</td>\n",
              "      <td>sk__Eukaryota;k__Viridiplantae;p__Chlorophyta;...</td>\n",
              "    </tr>\n",
              "    <tr>\n",
              "      <th>2</th>\n",
              "      <td>3</td>\n",
              "      <td>sk__Eukaryota;k__Metazoa;p__Arthropoda;c__Inse...</td>\n",
              "    </tr>\n",
              "    <tr>\n",
              "      <th>3</th>\n",
              "      <td>4</td>\n",
              "      <td>sk__Bacteria;k__;p__Firmicutes;c__Bacilli;o__B...</td>\n",
              "    </tr>\n",
              "    <tr>\n",
              "      <th>4</th>\n",
              "      <td>5</td>\n",
              "      <td>sk__Bacteria;k__;p__Proteobacteria;c__Gammapro...</td>\n",
              "    </tr>\n",
              "    <tr>\n",
              "      <th>...</th>\n",
              "      <td>...</td>\n",
              "      <td>...</td>\n",
              "    </tr>\n",
              "    <tr>\n",
              "      <th>265501</th>\n",
              "      <td>265502</td>\n",
              "      <td>sk__Bacteria;k__;p__Actinobacteria;c__Actinoba...</td>\n",
              "    </tr>\n",
              "    <tr>\n",
              "      <th>265502</th>\n",
              "      <td>265503</td>\n",
              "      <td>sk__Bacteria;k__;p__Proteobacteria;c__Gammapro...</td>\n",
              "    </tr>\n",
              "    <tr>\n",
              "      <th>265503</th>\n",
              "      <td>265504</td>\n",
              "      <td>sk__Eukaryota;k__Metazoa;p__Acanthocephala;c__...</td>\n",
              "    </tr>\n",
              "    <tr>\n",
              "      <th>265504</th>\n",
              "      <td>265505</td>\n",
              "      <td>sk__Eukaryota;k__Metazoa;p__Arthropoda;c__Mala...</td>\n",
              "    </tr>\n",
              "    <tr>\n",
              "      <th>265505</th>\n",
              "      <td>265506</td>\n",
              "      <td>Unclassified</td>\n",
              "    </tr>\n",
              "  </tbody>\n",
              "</table>\n",
              "<p>265506 rows × 2 columns</p>\n",
              "</div>"
            ],
            "text/plain": [
              "        OTU_id                                           taxonomy\n",
              "0            1  sk__Eukaryota;k__Viridiplantae;p__Streptophyta...\n",
              "1            2  sk__Eukaryota;k__Viridiplantae;p__Chlorophyta;...\n",
              "2            3  sk__Eukaryota;k__Metazoa;p__Arthropoda;c__Inse...\n",
              "3            4  sk__Bacteria;k__;p__Firmicutes;c__Bacilli;o__B...\n",
              "4            5  sk__Bacteria;k__;p__Proteobacteria;c__Gammapro...\n",
              "...        ...                                                ...\n",
              "265501  265502  sk__Bacteria;k__;p__Actinobacteria;c__Actinoba...\n",
              "265502  265503  sk__Bacteria;k__;p__Proteobacteria;c__Gammapro...\n",
              "265503  265504  sk__Eukaryota;k__Metazoa;p__Acanthocephala;c__...\n",
              "265504  265505  sk__Eukaryota;k__Metazoa;p__Arthropoda;c__Mala...\n",
              "265505  265506                                       Unclassified\n",
              "\n",
              "[265506 rows x 2 columns]"
            ]
          },
          "metadata": {},
          "execution_count": 8
        }
      ]
    },
    {
      "cell_type": "code",
      "metadata": {
        "id": "2ArmNhzEubiQ",
        "colab": {
          "base_uri": "https://localhost:8080/",
          "height": 204
        },
        "outputId": "9a176e77-0010-4eb8-a5f2-081a1ff9ca8d"
      },
      "source": [
        "fourone.head()"
      ],
      "execution_count": 9,
      "outputs": [
        {
          "output_type": "execute_result",
          "data": {
            "text/html": [
              "<div>\n",
              "<style scoped>\n",
              "    .dataframe tbody tr th:only-of-type {\n",
              "        vertical-align: middle;\n",
              "    }\n",
              "\n",
              "    .dataframe tbody tr th {\n",
              "        vertical-align: top;\n",
              "    }\n",
              "\n",
              "    .dataframe thead th {\n",
              "        text-align: right;\n",
              "    }\n",
              "</style>\n",
              "<table border=\"1\" class=\"dataframe\">\n",
              "  <thead>\n",
              "    <tr style=\"text-align: right;\">\n",
              "      <th></th>\n",
              "      <th>OTU_id</th>\n",
              "      <th>taxonomy</th>\n",
              "    </tr>\n",
              "  </thead>\n",
              "  <tbody>\n",
              "    <tr>\n",
              "      <th>0</th>\n",
              "      <td>1</td>\n",
              "      <td>sk__Eukaryota;k__Viridiplantae;p__Streptophyta...</td>\n",
              "    </tr>\n",
              "    <tr>\n",
              "      <th>1</th>\n",
              "      <td>2</td>\n",
              "      <td>sk__Eukaryota;k__Viridiplantae;p__Chlorophyta;...</td>\n",
              "    </tr>\n",
              "    <tr>\n",
              "      <th>2</th>\n",
              "      <td>3</td>\n",
              "      <td>sk__Eukaryota;k__Metazoa;p__Arthropoda;c__Inse...</td>\n",
              "    </tr>\n",
              "    <tr>\n",
              "      <th>3</th>\n",
              "      <td>4</td>\n",
              "      <td>sk__Bacteria;k__;p__Firmicutes;c__Bacilli;o__B...</td>\n",
              "    </tr>\n",
              "    <tr>\n",
              "      <th>4</th>\n",
              "      <td>5</td>\n",
              "      <td>sk__Bacteria;k__;p__Proteobacteria;c__Gammapro...</td>\n",
              "    </tr>\n",
              "  </tbody>\n",
              "</table>\n",
              "</div>"
            ],
            "text/plain": [
              "   OTU_id                                           taxonomy\n",
              "0       1  sk__Eukaryota;k__Viridiplantae;p__Streptophyta...\n",
              "1       2  sk__Eukaryota;k__Viridiplantae;p__Chlorophyta;...\n",
              "2       3  sk__Eukaryota;k__Metazoa;p__Arthropoda;c__Inse...\n",
              "3       4  sk__Bacteria;k__;p__Firmicutes;c__Bacilli;o__B...\n",
              "4       5  sk__Bacteria;k__;p__Proteobacteria;c__Gammapro..."
            ]
          },
          "metadata": {},
          "execution_count": 9
        }
      ]
    },
    {
      "cell_type": "code",
      "metadata": {
        "id": "DyQKHjwXL9ZI"
      },
      "source": [
        "four_test= fourone.copy() #make a copy to mess with"
      ],
      "execution_count": 10,
      "outputs": []
    },
    {
      "cell_type": "code",
      "metadata": {
        "colab": {
          "base_uri": "https://localhost:8080/",
          "height": 204
        },
        "id": "VySkR8RQNV1F",
        "outputId": "5588054d-137a-4ad1-f1ad-9a83eb49c983"
      },
      "source": [
        "four_test.head()"
      ],
      "execution_count": 11,
      "outputs": [
        {
          "output_type": "execute_result",
          "data": {
            "text/html": [
              "<div>\n",
              "<style scoped>\n",
              "    .dataframe tbody tr th:only-of-type {\n",
              "        vertical-align: middle;\n",
              "    }\n",
              "\n",
              "    .dataframe tbody tr th {\n",
              "        vertical-align: top;\n",
              "    }\n",
              "\n",
              "    .dataframe thead th {\n",
              "        text-align: right;\n",
              "    }\n",
              "</style>\n",
              "<table border=\"1\" class=\"dataframe\">\n",
              "  <thead>\n",
              "    <tr style=\"text-align: right;\">\n",
              "      <th></th>\n",
              "      <th>OTU_id</th>\n",
              "      <th>taxonomy</th>\n",
              "    </tr>\n",
              "  </thead>\n",
              "  <tbody>\n",
              "    <tr>\n",
              "      <th>0</th>\n",
              "      <td>1</td>\n",
              "      <td>sk__Eukaryota;k__Viridiplantae;p__Streptophyta...</td>\n",
              "    </tr>\n",
              "    <tr>\n",
              "      <th>1</th>\n",
              "      <td>2</td>\n",
              "      <td>sk__Eukaryota;k__Viridiplantae;p__Chlorophyta;...</td>\n",
              "    </tr>\n",
              "    <tr>\n",
              "      <th>2</th>\n",
              "      <td>3</td>\n",
              "      <td>sk__Eukaryota;k__Metazoa;p__Arthropoda;c__Inse...</td>\n",
              "    </tr>\n",
              "    <tr>\n",
              "      <th>3</th>\n",
              "      <td>4</td>\n",
              "      <td>sk__Bacteria;k__;p__Firmicutes;c__Bacilli;o__B...</td>\n",
              "    </tr>\n",
              "    <tr>\n",
              "      <th>4</th>\n",
              "      <td>5</td>\n",
              "      <td>sk__Bacteria;k__;p__Proteobacteria;c__Gammapro...</td>\n",
              "    </tr>\n",
              "  </tbody>\n",
              "</table>\n",
              "</div>"
            ],
            "text/plain": [
              "   OTU_id                                           taxonomy\n",
              "0       1  sk__Eukaryota;k__Viridiplantae;p__Streptophyta...\n",
              "1       2  sk__Eukaryota;k__Viridiplantae;p__Chlorophyta;...\n",
              "2       3  sk__Eukaryota;k__Metazoa;p__Arthropoda;c__Inse...\n",
              "3       4  sk__Bacteria;k__;p__Firmicutes;c__Bacilli;o__B...\n",
              "4       5  sk__Bacteria;k__;p__Proteobacteria;c__Gammapro..."
            ]
          },
          "metadata": {},
          "execution_count": 11
        }
      ]
    },
    {
      "cell_type": "code",
      "metadata": {
        "id": "Nx3c4lAaNY7U"
      },
      "source": [
        "# does a left join of the two tables with taxonomy as key in order to match NCBI id from 5.0 with OTUs in 4.1\n",
        "final_test=four_test.merge(five[['taxonomy', 'taxonomy_id']], left_on='taxonomy',right_on='taxonomy', how='left')"
      ],
      "execution_count": 12,
      "outputs": []
    },
    {
      "cell_type": "code",
      "metadata": {
        "colab": {
          "base_uri": "https://localhost:8080/",
          "height": 419
        },
        "id": "xEjisGE5Qzrn",
        "outputId": "02b94bf0-daae-481d-e881-a673cd944340"
      },
      "source": [
        "final_test"
      ],
      "execution_count": 13,
      "outputs": [
        {
          "output_type": "execute_result",
          "data": {
            "text/html": [
              "<div>\n",
              "<style scoped>\n",
              "    .dataframe tbody tr th:only-of-type {\n",
              "        vertical-align: middle;\n",
              "    }\n",
              "\n",
              "    .dataframe tbody tr th {\n",
              "        vertical-align: top;\n",
              "    }\n",
              "\n",
              "    .dataframe thead th {\n",
              "        text-align: right;\n",
              "    }\n",
              "</style>\n",
              "<table border=\"1\" class=\"dataframe\">\n",
              "  <thead>\n",
              "    <tr style=\"text-align: right;\">\n",
              "      <th></th>\n",
              "      <th>OTU_id</th>\n",
              "      <th>taxonomy</th>\n",
              "      <th>taxonomy_id</th>\n",
              "    </tr>\n",
              "  </thead>\n",
              "  <tbody>\n",
              "    <tr>\n",
              "      <th>0</th>\n",
              "      <td>1</td>\n",
              "      <td>sk__Eukaryota;k__Viridiplantae;p__Streptophyta...</td>\n",
              "      <td>NaN</td>\n",
              "    </tr>\n",
              "    <tr>\n",
              "      <th>1</th>\n",
              "      <td>2</td>\n",
              "      <td>sk__Eukaryota;k__Viridiplantae;p__Chlorophyta;...</td>\n",
              "      <td>554069.0</td>\n",
              "    </tr>\n",
              "    <tr>\n",
              "      <th>2</th>\n",
              "      <td>3</td>\n",
              "      <td>sk__Eukaryota;k__Metazoa;p__Arthropoda;c__Inse...</td>\n",
              "      <td>89828.0</td>\n",
              "    </tr>\n",
              "    <tr>\n",
              "      <th>3</th>\n",
              "      <td>4</td>\n",
              "      <td>sk__Bacteria;k__;p__Firmicutes;c__Bacilli;o__B...</td>\n",
              "      <td>153935.0</td>\n",
              "    </tr>\n",
              "    <tr>\n",
              "      <th>4</th>\n",
              "      <td>5</td>\n",
              "      <td>sk__Bacteria;k__;p__Proteobacteria;c__Gammapro...</td>\n",
              "      <td>859002.0</td>\n",
              "    </tr>\n",
              "    <tr>\n",
              "      <th>...</th>\n",
              "      <td>...</td>\n",
              "      <td>...</td>\n",
              "      <td>...</td>\n",
              "    </tr>\n",
              "    <tr>\n",
              "      <th>265504</th>\n",
              "      <td>265502</td>\n",
              "      <td>sk__Bacteria;k__;p__Actinobacteria;c__Actinoba...</td>\n",
              "      <td>932037.0</td>\n",
              "    </tr>\n",
              "    <tr>\n",
              "      <th>265505</th>\n",
              "      <td>265503</td>\n",
              "      <td>sk__Bacteria;k__;p__Proteobacteria;c__Gammapro...</td>\n",
              "      <td>1267834.0</td>\n",
              "    </tr>\n",
              "    <tr>\n",
              "      <th>265506</th>\n",
              "      <td>265504</td>\n",
              "      <td>sk__Eukaryota;k__Metazoa;p__Acanthocephala;c__...</td>\n",
              "      <td>NaN</td>\n",
              "    </tr>\n",
              "    <tr>\n",
              "      <th>265507</th>\n",
              "      <td>265505</td>\n",
              "      <td>sk__Eukaryota;k__Metazoa;p__Arthropoda;c__Mala...</td>\n",
              "      <td>689441.0</td>\n",
              "    </tr>\n",
              "    <tr>\n",
              "      <th>265508</th>\n",
              "      <td>265506</td>\n",
              "      <td>Unclassified</td>\n",
              "      <td>NaN</td>\n",
              "    </tr>\n",
              "  </tbody>\n",
              "</table>\n",
              "<p>265509 rows × 3 columns</p>\n",
              "</div>"
            ],
            "text/plain": [
              "        OTU_id                                           taxonomy  taxonomy_id\n",
              "0            1  sk__Eukaryota;k__Viridiplantae;p__Streptophyta...          NaN\n",
              "1            2  sk__Eukaryota;k__Viridiplantae;p__Chlorophyta;...     554069.0\n",
              "2            3  sk__Eukaryota;k__Metazoa;p__Arthropoda;c__Inse...      89828.0\n",
              "3            4  sk__Bacteria;k__;p__Firmicutes;c__Bacilli;o__B...     153935.0\n",
              "4            5  sk__Bacteria;k__;p__Proteobacteria;c__Gammapro...     859002.0\n",
              "...        ...                                                ...          ...\n",
              "265504  265502  sk__Bacteria;k__;p__Actinobacteria;c__Actinoba...     932037.0\n",
              "265505  265503  sk__Bacteria;k__;p__Proteobacteria;c__Gammapro...    1267834.0\n",
              "265506  265504  sk__Eukaryota;k__Metazoa;p__Acanthocephala;c__...          NaN\n",
              "265507  265505  sk__Eukaryota;k__Metazoa;p__Arthropoda;c__Mala...     689441.0\n",
              "265508  265506                                       Unclassified          NaN\n",
              "\n",
              "[265509 rows x 3 columns]"
            ]
          },
          "metadata": {},
          "execution_count": 13
        }
      ]
    },
    {
      "cell_type": "code",
      "metadata": {
        "id": "WX6Q7csxRoZ_"
      },
      "source": [
        "final_test.to_csv('final_otu_test.tsv', sep='\\t', index=False) #write the table to a .tsv file"
      ],
      "execution_count": 15,
      "outputs": []
    },
    {
      "cell_type": "code",
      "metadata": {
        "id": "7VRRzvZqCJyv"
      },
      "source": [
        "final_test['taxonomy_id'] = final_test['taxonomy_id'].astype(str).replace('\\.0', '', regex=True) #removes the decimal points from the IDs"
      ],
      "execution_count": 37,
      "outputs": []
    },
    {
      "cell_type": "code",
      "metadata": {
        "colab": {
          "base_uri": "https://localhost:8080/",
          "height": 419
        },
        "id": "-ewu394kEWrE",
        "outputId": "90c37e90-74d4-47ec-b619-5f1ddf24843f"
      },
      "source": [
        "final_test"
      ],
      "execution_count": 38,
      "outputs": [
        {
          "output_type": "execute_result",
          "data": {
            "text/html": [
              "<div>\n",
              "<style scoped>\n",
              "    .dataframe tbody tr th:only-of-type {\n",
              "        vertical-align: middle;\n",
              "    }\n",
              "\n",
              "    .dataframe tbody tr th {\n",
              "        vertical-align: top;\n",
              "    }\n",
              "\n",
              "    .dataframe thead th {\n",
              "        text-align: right;\n",
              "    }\n",
              "</style>\n",
              "<table border=\"1\" class=\"dataframe\">\n",
              "  <thead>\n",
              "    <tr style=\"text-align: right;\">\n",
              "      <th></th>\n",
              "      <th>OTU_id</th>\n",
              "      <th>taxonomy</th>\n",
              "      <th>taxonomy_id</th>\n",
              "    </tr>\n",
              "  </thead>\n",
              "  <tbody>\n",
              "    <tr>\n",
              "      <th>0</th>\n",
              "      <td>1</td>\n",
              "      <td>sk__Eukaryota;k__Viridiplantae;p__Streptophyta...</td>\n",
              "      <td>nan</td>\n",
              "    </tr>\n",
              "    <tr>\n",
              "      <th>1</th>\n",
              "      <td>2</td>\n",
              "      <td>sk__Eukaryota;k__Viridiplantae;p__Chlorophyta;...</td>\n",
              "      <td>554069</td>\n",
              "    </tr>\n",
              "    <tr>\n",
              "      <th>2</th>\n",
              "      <td>3</td>\n",
              "      <td>sk__Eukaryota;k__Metazoa;p__Arthropoda;c__Inse...</td>\n",
              "      <td>89828</td>\n",
              "    </tr>\n",
              "    <tr>\n",
              "      <th>3</th>\n",
              "      <td>4</td>\n",
              "      <td>sk__Bacteria;k__;p__Firmicutes;c__Bacilli;o__B...</td>\n",
              "      <td>153935</td>\n",
              "    </tr>\n",
              "    <tr>\n",
              "      <th>4</th>\n",
              "      <td>5</td>\n",
              "      <td>sk__Bacteria;k__;p__Proteobacteria;c__Gammapro...</td>\n",
              "      <td>859002</td>\n",
              "    </tr>\n",
              "    <tr>\n",
              "      <th>...</th>\n",
              "      <td>...</td>\n",
              "      <td>...</td>\n",
              "      <td>...</td>\n",
              "    </tr>\n",
              "    <tr>\n",
              "      <th>265504</th>\n",
              "      <td>265502</td>\n",
              "      <td>sk__Bacteria;k__;p__Actinobacteria;c__Actinoba...</td>\n",
              "      <td>932037</td>\n",
              "    </tr>\n",
              "    <tr>\n",
              "      <th>265505</th>\n",
              "      <td>265503</td>\n",
              "      <td>sk__Bacteria;k__;p__Proteobacteria;c__Gammapro...</td>\n",
              "      <td>1267834</td>\n",
              "    </tr>\n",
              "    <tr>\n",
              "      <th>265506</th>\n",
              "      <td>265504</td>\n",
              "      <td>sk__Eukaryota;k__Metazoa;p__Acanthocephala;c__...</td>\n",
              "      <td>nan</td>\n",
              "    </tr>\n",
              "    <tr>\n",
              "      <th>265507</th>\n",
              "      <td>265505</td>\n",
              "      <td>sk__Eukaryota;k__Metazoa;p__Arthropoda;c__Mala...</td>\n",
              "      <td>689441</td>\n",
              "    </tr>\n",
              "    <tr>\n",
              "      <th>265508</th>\n",
              "      <td>265506</td>\n",
              "      <td>Unclassified</td>\n",
              "      <td>nan</td>\n",
              "    </tr>\n",
              "  </tbody>\n",
              "</table>\n",
              "<p>265509 rows × 3 columns</p>\n",
              "</div>"
            ],
            "text/plain": [
              "        OTU_id                                           taxonomy taxonomy_id\n",
              "0            1  sk__Eukaryota;k__Viridiplantae;p__Streptophyta...         nan\n",
              "1            2  sk__Eukaryota;k__Viridiplantae;p__Chlorophyta;...      554069\n",
              "2            3  sk__Eukaryota;k__Metazoa;p__Arthropoda;c__Inse...       89828\n",
              "3            4  sk__Bacteria;k__;p__Firmicutes;c__Bacilli;o__B...      153935\n",
              "4            5  sk__Bacteria;k__;p__Proteobacteria;c__Gammapro...      859002\n",
              "...        ...                                                ...         ...\n",
              "265504  265502  sk__Bacteria;k__;p__Actinobacteria;c__Actinoba...      932037\n",
              "265505  265503  sk__Bacteria;k__;p__Proteobacteria;c__Gammapro...     1267834\n",
              "265506  265504  sk__Eukaryota;k__Metazoa;p__Acanthocephala;c__...         nan\n",
              "265507  265505  sk__Eukaryota;k__Metazoa;p__Arthropoda;c__Mala...      689441\n",
              "265508  265506                                       Unclassified         nan\n",
              "\n",
              "[265509 rows x 3 columns]"
            ]
          },
          "metadata": {},
          "execution_count": 38
        }
      ]
    },
    {
      "cell_type": "code",
      "metadata": {
        "id": "rkGkQEgMEZCJ"
      },
      "source": [
        "final_rounded = final_test.copy()"
      ],
      "execution_count": 39,
      "outputs": []
    },
    {
      "cell_type": "code",
      "metadata": {
        "colab": {
          "base_uri": "https://localhost:8080/",
          "height": 419
        },
        "id": "o-LPOyETGUC7",
        "outputId": "61459ff5-aa27-434d-8e9a-d8961854d05a"
      },
      "source": [
        "final_rounded"
      ],
      "execution_count": 40,
      "outputs": [
        {
          "output_type": "execute_result",
          "data": {
            "text/html": [
              "<div>\n",
              "<style scoped>\n",
              "    .dataframe tbody tr th:only-of-type {\n",
              "        vertical-align: middle;\n",
              "    }\n",
              "\n",
              "    .dataframe tbody tr th {\n",
              "        vertical-align: top;\n",
              "    }\n",
              "\n",
              "    .dataframe thead th {\n",
              "        text-align: right;\n",
              "    }\n",
              "</style>\n",
              "<table border=\"1\" class=\"dataframe\">\n",
              "  <thead>\n",
              "    <tr style=\"text-align: right;\">\n",
              "      <th></th>\n",
              "      <th>OTU_id</th>\n",
              "      <th>taxonomy</th>\n",
              "      <th>taxonomy_id</th>\n",
              "    </tr>\n",
              "  </thead>\n",
              "  <tbody>\n",
              "    <tr>\n",
              "      <th>0</th>\n",
              "      <td>1</td>\n",
              "      <td>sk__Eukaryota;k__Viridiplantae;p__Streptophyta...</td>\n",
              "      <td>nan</td>\n",
              "    </tr>\n",
              "    <tr>\n",
              "      <th>1</th>\n",
              "      <td>2</td>\n",
              "      <td>sk__Eukaryota;k__Viridiplantae;p__Chlorophyta;...</td>\n",
              "      <td>554069</td>\n",
              "    </tr>\n",
              "    <tr>\n",
              "      <th>2</th>\n",
              "      <td>3</td>\n",
              "      <td>sk__Eukaryota;k__Metazoa;p__Arthropoda;c__Inse...</td>\n",
              "      <td>89828</td>\n",
              "    </tr>\n",
              "    <tr>\n",
              "      <th>3</th>\n",
              "      <td>4</td>\n",
              "      <td>sk__Bacteria;k__;p__Firmicutes;c__Bacilli;o__B...</td>\n",
              "      <td>153935</td>\n",
              "    </tr>\n",
              "    <tr>\n",
              "      <th>4</th>\n",
              "      <td>5</td>\n",
              "      <td>sk__Bacteria;k__;p__Proteobacteria;c__Gammapro...</td>\n",
              "      <td>859002</td>\n",
              "    </tr>\n",
              "    <tr>\n",
              "      <th>...</th>\n",
              "      <td>...</td>\n",
              "      <td>...</td>\n",
              "      <td>...</td>\n",
              "    </tr>\n",
              "    <tr>\n",
              "      <th>265504</th>\n",
              "      <td>265502</td>\n",
              "      <td>sk__Bacteria;k__;p__Actinobacteria;c__Actinoba...</td>\n",
              "      <td>932037</td>\n",
              "    </tr>\n",
              "    <tr>\n",
              "      <th>265505</th>\n",
              "      <td>265503</td>\n",
              "      <td>sk__Bacteria;k__;p__Proteobacteria;c__Gammapro...</td>\n",
              "      <td>1267834</td>\n",
              "    </tr>\n",
              "    <tr>\n",
              "      <th>265506</th>\n",
              "      <td>265504</td>\n",
              "      <td>sk__Eukaryota;k__Metazoa;p__Acanthocephala;c__...</td>\n",
              "      <td>nan</td>\n",
              "    </tr>\n",
              "    <tr>\n",
              "      <th>265507</th>\n",
              "      <td>265505</td>\n",
              "      <td>sk__Eukaryota;k__Metazoa;p__Arthropoda;c__Mala...</td>\n",
              "      <td>689441</td>\n",
              "    </tr>\n",
              "    <tr>\n",
              "      <th>265508</th>\n",
              "      <td>265506</td>\n",
              "      <td>Unclassified</td>\n",
              "      <td>nan</td>\n",
              "    </tr>\n",
              "  </tbody>\n",
              "</table>\n",
              "<p>265509 rows × 3 columns</p>\n",
              "</div>"
            ],
            "text/plain": [
              "        OTU_id                                           taxonomy taxonomy_id\n",
              "0            1  sk__Eukaryota;k__Viridiplantae;p__Streptophyta...         nan\n",
              "1            2  sk__Eukaryota;k__Viridiplantae;p__Chlorophyta;...      554069\n",
              "2            3  sk__Eukaryota;k__Metazoa;p__Arthropoda;c__Inse...       89828\n",
              "3            4  sk__Bacteria;k__;p__Firmicutes;c__Bacilli;o__B...      153935\n",
              "4            5  sk__Bacteria;k__;p__Proteobacteria;c__Gammapro...      859002\n",
              "...        ...                                                ...         ...\n",
              "265504  265502  sk__Bacteria;k__;p__Actinobacteria;c__Actinoba...      932037\n",
              "265505  265503  sk__Bacteria;k__;p__Proteobacteria;c__Gammapro...     1267834\n",
              "265506  265504  sk__Eukaryota;k__Metazoa;p__Acanthocephala;c__...         nan\n",
              "265507  265505  sk__Eukaryota;k__Metazoa;p__Arthropoda;c__Mala...      689441\n",
              "265508  265506                                       Unclassified         nan\n",
              "\n",
              "[265509 rows x 3 columns]"
            ]
          },
          "metadata": {},
          "execution_count": 40
        }
      ]
    },
    {
      "cell_type": "code",
      "metadata": {
        "id": "0jHoTAgpGVbs"
      },
      "source": [
        "final_rounded.to_csv('final_otu_rounded.tsv', sep='\\t', index=False) #write the version without decimal points to a .tsv file"
      ],
      "execution_count": 41,
      "outputs": []
    }
  ]
}